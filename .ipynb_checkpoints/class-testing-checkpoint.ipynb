{
 "cells": [
  {
   "cell_type": "code",
   "execution_count": 1,
   "id": "c6060e97",
   "metadata": {},
   "outputs": [],
   "source": [
    "import numpy as np\n",
    "import scipy.stats as stats\n",
    "import matplotlib.pyplot as plt\n",
    "import pandas as pd\n",
    "from modules.classes import BinomialExperiment\n",
    "\n",
    "%matplotlib inline"
   ]
  },
  {
   "cell_type": "code",
   "execution_count": 7,
   "id": "835ff06e",
   "metadata": {},
   "outputs": [],
   "source": [
    "experiment_post = BinomialExperiment(p_control = 0.1, p_treatment = 0.12, n_control = 1500, n_treatment = 1500)\n",
    "experiment_pre = BinomialExperiment(p_control = 0.1, p_treatment = 0.12, power = 0.8)"
   ]
  },
  {
   "cell_type": "code",
   "execution_count": 8,
   "id": "7d44be9e",
   "metadata": {},
   "outputs": [
    {
     "name": "stdout",
     "output_type": "stream",
     "text": [
      "|||Experiment Readout|||\n",
      "                              \n",
      "Control Probability     10.00%\n",
      "Treatment Probability   12.00%\n",
      "Effect Size              2.00%\n",
      "                              \n",
      "Control Sample Size      1,500\n",
      "Treatment Sample Size    1,500\n",
      "                              \n",
      "Statistical Power        0.569\n",
      "Significance Threshold   0.050\n",
      "P Value                  0.042\n"
     ]
    }
   ],
   "source": [
    "experiment_post.evaluate()"
   ]
  },
  {
   "cell_type": "code",
   "execution_count": 6,
   "id": "984ce9c2",
   "metadata": {},
   "outputs": [
    {
     "name": "stdout",
     "output_type": "stream",
     "text": [
      "|||Experiment Readout|||\n",
      "                              \n",
      "Control Probability     10.00%\n",
      "Treatment Probability   12.00%\n",
      "Effect Size              2.00%\n",
      "                              \n",
      "Control Sample Size      2,863\n",
      "Treatment Sample Size    2,863\n",
      "                              \n",
      "Statistical Power        0.800\n",
      "Significance Threshold   0.050\n",
      "P Value                  0.008\n"
     ]
    }
   ],
   "source": [
    "experiment_pre.plan()"
   ]
  }
 ],
 "metadata": {
  "kernelspec": {
   "display_name": "datasci",
   "language": "python",
   "name": "datasci"
  },
  "language_info": {
   "codemirror_mode": {
    "name": "ipython",
    "version": 3
   },
   "file_extension": ".py",
   "mimetype": "text/x-python",
   "name": "python",
   "nbconvert_exporter": "python",
   "pygments_lexer": "ipython3",
   "version": "3.8.7"
  }
 },
 "nbformat": 4,
 "nbformat_minor": 5
}
