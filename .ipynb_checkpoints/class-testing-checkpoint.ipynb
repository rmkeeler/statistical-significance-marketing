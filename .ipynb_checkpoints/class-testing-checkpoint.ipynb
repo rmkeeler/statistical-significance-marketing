{
 "cells": [
  {
   "cell_type": "code",
   "execution_count": 1,
   "id": "c6060e97",
   "metadata": {},
   "outputs": [],
   "source": [
    "from modules.classes import BinomialExperiment\n",
    "import matplotlib.pyplot as plt\n",
    "import numpy as np\n",
    "import plotly.graph_objects as go\n",
    "import webbrowser\n",
    "\n",
    "%matplotlib inline"
   ]
  },
  {
   "cell_type": "code",
   "execution_count": 16,
   "id": "835ff06e",
   "metadata": {},
   "outputs": [],
   "source": [
    "experiment_post = BinomialExperiment(p_control = 0.05, p_treatment = 0.10, n_control = 2345, n_treatment = 2134)\n",
    "experiment_pre = BinomialExperiment(p_control = 0.1, p_treatment = 0.12, power = 0.8)"
   ]
  },
  {
   "cell_type": "code",
   "execution_count": 17,
   "id": "2014b91a",
   "metadata": {},
   "outputs": [
    {
     "name": "stdout",
     "output_type": "stream",
     "text": [
      "|||Experiment Readout|||\n",
      "                              \n",
      "Control Probability      5.00%\n",
      "Treatment Probability   10.00%\n",
      "Effect Size              5.00%\n",
      "                              \n",
      "Control Sample Size      2,345\n",
      "Treatment Sample Size    2,134\n",
      "                              \n",
      "Statistical Power        1.000\n",
      "Significance Threshold   0.050\n",
      "P Value                  0.000\n"
     ]
    }
   ],
   "source": [
    "experiment_post.evaluate(plot = False)"
   ]
  },
  {
   "cell_type": "code",
   "execution_count": 18,
   "id": "c863a055",
   "metadata": {},
   "outputs": [],
   "source": [
    "control = experiment_post.binom_control\n",
    "treatment = experiment_post.binom_treatment"
   ]
  },
  {
   "cell_type": "code",
   "execution_count": 19,
   "id": "4332a7f4",
   "metadata": {},
   "outputs": [],
   "source": [
    "control_lower = np.percentile(a = control, q = 2.5)\n",
    "control_higher = np.percentile(a = control, q = 97.5)"
   ]
  },
  {
   "cell_type": "code",
   "execution_count": 20,
   "id": "fac946da",
   "metadata": {},
   "outputs": [],
   "source": [
    "treatment_lower = np.percentile(a = treatment, q = 2.5)\n",
    "treatment_higher = np.percentile(a = treatment, q = 97.5)"
   ]
  },
  {
   "cell_type": "code",
   "execution_count": 21,
   "id": "6f7bf6e4",
   "metadata": {},
   "outputs": [
    {
     "name": "stdout",
     "output_type": "stream",
     "text": [
      "Control Interval: 0.04136460554371002 - 0.05884861407249467\n",
      "Treatment Interval: 0.08762886597938144 - 0.11293345829428304\n"
     ]
    }
   ],
   "source": [
    "print('Control Interval: {} - {}'.format(control_lower, control_higher))\n",
    "print('Treatment Interval: {} - {}'.format(treatment_lower, treatment_higher))"
   ]
  },
  {
   "cell_type": "code",
   "execution_count": 24,
   "id": "3a728e9d",
   "metadata": {},
   "outputs": [],
   "source": [
    "top = max(control_higher, treatment_higher)\n",
    "bot = min(control_lower, treatment_lower)\n",
    "r = top - bot"
   ]
  },
  {
   "cell_type": "code",
   "execution_count": 27,
   "id": "5f0b0409",
   "metadata": {},
   "outputs": [],
   "source": [
    "x_high = [top, top + 0.1*r]\n",
    "x = [bot, top]\n",
    "x_low = [bot - 0.1*r, bot]\n",
    "\n",
    "y1 = [1, 1]\n",
    "y2 = [2, 2]"
   ]
  },
  {
   "cell_type": "code",
   "execution_count": null,
   "id": "6ddf8355",
   "metadata": {},
   "outputs": [],
   "source": []
  }
 ],
 "metadata": {
  "kernelspec": {
   "display_name": "datasci",
   "language": "python",
   "name": "datasci"
  },
  "language_info": {
   "codemirror_mode": {
    "name": "ipython",
    "version": 3
   },
   "file_extension": ".py",
   "mimetype": "text/x-python",
   "name": "python",
   "nbconvert_exporter": "python",
   "pygments_lexer": "ipython3",
   "version": "3.8.5"
  }
 },
 "nbformat": 4,
 "nbformat_minor": 5
}
