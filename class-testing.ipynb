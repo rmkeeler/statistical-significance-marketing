{
 "cells": [
  {
   "cell_type": "code",
   "execution_count": 6,
   "id": "c6060e97",
   "metadata": {},
   "outputs": [],
   "source": [
    "from modules.classes import BinomialExperiment\n",
    "import matplotlib.pyplot as plt\n",
    "import numpy as np\n",
    "import plotly.graph_objects as go\n",
    "import webbrowser\n",
    "\n",
    "%matplotlib inline"
   ]
  },
  {
   "cell_type": "code",
   "execution_count": 2,
   "id": "835ff06e",
   "metadata": {},
   "outputs": [],
   "source": [
    "experiment_post = BinomialExperiment(p_control = 0.04, p_treatment = 0.10, n_control = 2345, n_treatment = 2134)\n",
    "experiment_pre = BinomialExperiment(p_control = 0.1, p_treatment = 0.12, power = 0.8)"
   ]
  },
  {
   "cell_type": "code",
   "execution_count": 3,
   "id": "2014b91a",
   "metadata": {},
   "outputs": [
    {
     "name": "stdout",
     "output_type": "stream",
     "text": [
      "|||Experiment Readout|||\n",
      "                              \n",
      "Control Probability      4.00%\n",
      "Treatment Probability   10.00%\n",
      "Effect Size              6.00%\n",
      "                              \n",
      "Control Sample Size      2,345\n",
      "Treatment Sample Size    2,134\n",
      "                              \n",
      "Statistical Power        1.000\n",
      "Significance Threshold   0.050\n",
      "P Value                  0.000\n"
     ]
    }
   ],
   "source": [
    "figs = experiment_post.evaluate(plot = True)"
   ]
  },
  {
   "cell_type": "code",
   "execution_count": 4,
   "id": "5c4d0904",
   "metadata": {},
   "outputs": [],
   "source": [
    "def create_dashboard(figs, filename):\n",
    "    with open(filename, 'w') as f:\n",
    "        f.write('<html><head></head><body>' + '\\n')\n",
    "        for fig in figs:\n",
    "            innerhtml = fig.to_html().split('<body>')[1].split('</body>')[0]\n",
    "            f.write(innerhtml)\n",
    "        f.write('</body></html>' + '\\n')"
   ]
  },
  {
   "cell_type": "code",
   "execution_count": 5,
   "id": "5105c5a8",
   "metadata": {},
   "outputs": [],
   "source": [
    "create_dashboard(figs, 'testfig.html')"
   ]
  },
  {
   "cell_type": "code",
   "execution_count": 7,
   "id": "0ad9b892",
   "metadata": {},
   "outputs": [
    {
     "data": {
      "text/plain": [
       "True"
      ]
     },
     "execution_count": 7,
     "metadata": {},
     "output_type": "execute_result"
    }
   ],
   "source": [
    "webbrowser.open('testfig.html')"
   ]
  },
  {
   "cell_type": "code",
   "execution_count": null,
   "id": "5102cb4d",
   "metadata": {},
   "outputs": [],
   "source": [
    "fig = plt.figure(figsize = (16,4))\n",
    "ax1 = fig.add_subplot(1,3,1)\n",
    "ax2 = fig.add_subplot(1,3,2)\n",
    "ax3 = fig.add_subplot(1,3,3)\n",
    "\n",
    "for ax, ref in zip(fig.axes, [ax_p, ax_power, ax_sample]):\n",
    "    for line in ref.lines:\n",
    "        x = line.get_xdata()\n",
    "        y = line.get_ydata()\n",
    "        ax.plot(x, y)\n",
    "    ax.set_xlabel(ref.get_xlabel())\n",
    "    ax.set_ylabel(ref.get_ylabel())"
   ]
  },
  {
   "cell_type": "code",
   "execution_count": null,
   "id": "5e38eb3a",
   "metadata": {},
   "outputs": [],
   "source": [
    "x = np.linspace(1,100,100)"
   ]
  },
  {
   "cell_type": "code",
   "execution_count": null,
   "id": "5c893fe0",
   "metadata": {},
   "outputs": [],
   "source": [
    "x[x > 50]"
   ]
  }
 ],
 "metadata": {
  "kernelspec": {
   "display_name": "datascience",
   "language": "python",
   "name": "datascience"
  },
  "language_info": {
   "codemirror_mode": {
    "name": "ipython",
    "version": 3
   },
   "file_extension": ".py",
   "mimetype": "text/x-python",
   "name": "python",
   "nbconvert_exporter": "python",
   "pygments_lexer": "ipython3",
   "version": "3.8.7"
  }
 },
 "nbformat": 4,
 "nbformat_minor": 5
}
