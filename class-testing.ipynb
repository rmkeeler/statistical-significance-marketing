{
 "cells": [
  {
   "cell_type": "code",
   "execution_count": 1,
   "id": "c6060e97",
   "metadata": {},
   "outputs": [],
   "source": [
    "import numpy as np\n",
    "import scipy.stats as stats\n",
    "import matplotlib.pyplot as plt\n",
    "import pandas as pd\n",
    "from modules.classes import BinomialExperiment\n",
    "\n",
    "%matplotlib inline"
   ]
  },
  {
   "cell_type": "code",
   "execution_count": 2,
   "id": "835ff06e",
   "metadata": {},
   "outputs": [],
   "source": [
    "experiment_a = BinomialExperiment(p_control = 0.1, p_treatment = 0.12, n_control = 1000, n_treatment = 1000)\n",
    "experiment_b = BinomialExperiment(p_control = 0.1, p_treatment = 0.14, n_control = 1000, n_treatment = 1000)"
   ]
  },
  {
   "cell_type": "code",
   "execution_count": 3,
   "id": "7d44be9e",
   "metadata": {},
   "outputs": [
    {
     "name": "stdout",
     "output_type": "stream",
     "text": [
      "|||Experiment Readout|||\n",
      "                              \n",
      "Control Probability     10.00%\n",
      "Treatment Probability   12.00%\n",
      "Effect Size              2.00%\n",
      "                              \n",
      "Control Sample Size      1,000\n",
      "Treatment Sample Size    1,000\n",
      "                              \n",
      "Statistical Power        0.441\n",
      "Significance Threshold   0.050\n",
      "P Value                  0.081\n"
     ]
    }
   ],
   "source": [
    "experiment_a.evaluate()"
   ]
  },
  {
   "cell_type": "code",
   "execution_count": 4,
   "id": "984ce9c2",
   "metadata": {},
   "outputs": [
    {
     "name": "stdout",
     "output_type": "stream",
     "text": [
      "|||Experiment Readout|||\n",
      "                              \n",
      "Control Probability     10.00%\n",
      "Treatment Probability   14.00%\n",
      "Effect Size              4.00%\n",
      "                              \n",
      "Control Sample Size      1,000\n",
      "Treatment Sample Size    1,000\n",
      "                              \n",
      "Statistical Power        0.892\n",
      "Significance Threshold   0.050\n",
      "P Value                  0.003\n"
     ]
    }
   ],
   "source": [
    "experiment_b.evaluate()"
   ]
  }
 ],
 "metadata": {
  "kernelspec": {
   "display_name": "datasci",
   "language": "python",
   "name": "datasci"
  },
  "language_info": {
   "codemirror_mode": {
    "name": "ipython",
    "version": 3
   },
   "file_extension": ".py",
   "mimetype": "text/x-python",
   "name": "python",
   "nbconvert_exporter": "python",
   "pygments_lexer": "ipython3",
   "version": "3.8.7"
  }
 },
 "nbformat": 4,
 "nbformat_minor": 5
}
