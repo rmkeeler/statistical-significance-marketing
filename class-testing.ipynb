{
 "cells": [
  {
   "cell_type": "code",
   "execution_count": 3,
   "id": "c6060e97",
   "metadata": {},
   "outputs": [
    {
     "ename": "ModuleNotFoundError",
     "evalue": "No module named 'modules'",
     "output_type": "error",
     "traceback": [
      "\u001b[1;31m---------------------------------------------------------------------------\u001b[0m",
      "\u001b[1;31mModuleNotFoundError\u001b[0m                       Traceback (most recent call last)",
      "\u001b[1;32m<ipython-input-3-d6578c1b2beb>\u001b[0m in \u001b[0;36m<module>\u001b[1;34m\u001b[0m\n\u001b[1;32m----> 1\u001b[1;33m \u001b[1;32mfrom\u001b[0m \u001b[0mmodules\u001b[0m\u001b[1;33m.\u001b[0m\u001b[0mclasses\u001b[0m \u001b[1;32mimport\u001b[0m \u001b[0mBinomialExperiment\u001b[0m\u001b[1;33m\u001b[0m\u001b[1;33m\u001b[0m\u001b[0m\n\u001b[0m\u001b[0;32m      2\u001b[0m \u001b[1;32mimport\u001b[0m \u001b[0mmatplotlib\u001b[0m\u001b[1;33m.\u001b[0m\u001b[0mpyplot\u001b[0m \u001b[1;32mas\u001b[0m \u001b[0mplt\u001b[0m\u001b[1;33m\u001b[0m\u001b[1;33m\u001b[0m\u001b[0m\n\u001b[0;32m      3\u001b[0m \u001b[1;32mimport\u001b[0m \u001b[0mnumpy\u001b[0m \u001b[1;32mas\u001b[0m \u001b[0mnp\u001b[0m\u001b[1;33m\u001b[0m\u001b[1;33m\u001b[0m\u001b[0m\n\u001b[0;32m      4\u001b[0m \u001b[1;32mimport\u001b[0m \u001b[0mplotly\u001b[0m\u001b[1;33m.\u001b[0m\u001b[0mgraph_objects\u001b[0m \u001b[1;32mas\u001b[0m \u001b[0mgo\u001b[0m\u001b[1;33m\u001b[0m\u001b[1;33m\u001b[0m\u001b[0m\n\u001b[0;32m      5\u001b[0m \u001b[1;33m\u001b[0m\u001b[0m\n",
      "\u001b[1;31mModuleNotFoundError\u001b[0m: No module named 'modules'"
     ]
    }
   ],
   "source": [
    "from modules.classes import BinomialExperiment\n",
    "import matplotlib.pyplot as plt\n",
    "import numpy as np\n",
    "import plotly.graph_objects as go\n",
    "\n",
    "%matplotlib inline"
   ]
  },
  {
   "cell_type": "code",
   "execution_count": null,
   "id": "835ff06e",
   "metadata": {},
   "outputs": [],
   "source": [
    "experiment_post = BinomialExperiment(p_control = 0.1, p_treatment = 0.13, n_control = 1000, n_treatment = 1000)\n",
    "experiment_pre = BinomialExperiment(p_control = 0.1, p_treatment = 0.12, power = 0.8)"
   ]
  },
  {
   "cell_type": "code",
   "execution_count": null,
   "id": "2014b91a",
   "metadata": {},
   "outputs": [],
   "source": [
    "experiment_post.evaluate()"
   ]
  },
  {
   "cell_type": "code",
   "execution_count": null,
   "id": "5105c5a8",
   "metadata": {},
   "outputs": [],
   "source": [
    "fig = experiment_post.plot_power_curve(show = True)"
   ]
  },
  {
   "cell_type": "code",
   "execution_count": null,
   "id": "5102cb4d",
   "metadata": {},
   "outputs": [],
   "source": [
    "fig = plt.figure(figsize = (16,4))\n",
    "ax1 = fig.add_subplot(1,3,1)\n",
    "ax2 = fig.add_subplot(1,3,2)\n",
    "ax3 = fig.add_subplot(1,3,3)\n",
    "\n",
    "for ax, ref in zip(fig.axes, [ax_p, ax_power, ax_sample]):\n",
    "    for line in ref.lines:\n",
    "        x = line.get_xdata()\n",
    "        y = line.get_ydata()\n",
    "        ax.plot(x, y)\n",
    "    ax.set_xlabel(ref.get_xlabel())\n",
    "    ax.set_ylabel(ref.get_ylabel())"
   ]
  },
  {
   "cell_type": "code",
   "execution_count": null,
   "id": "5e38eb3a",
   "metadata": {},
   "outputs": [],
   "source": [
    "x = np.linspace(1,100,100)"
   ]
  },
  {
   "cell_type": "code",
   "execution_count": null,
   "id": "5c893fe0",
   "metadata": {},
   "outputs": [],
   "source": [
    "x[x > 50]"
   ]
  }
 ],
 "metadata": {
  "kernelspec": {
   "display_name": "datasci",
   "language": "python",
   "name": "datasci"
  },
  "language_info": {
   "codemirror_mode": {
    "name": "ipython",
    "version": 3
   },
   "file_extension": ".py",
   "mimetype": "text/x-python",
   "name": "python",
   "nbconvert_exporter": "python",
   "pygments_lexer": "ipython3",
   "version": "3.8.7"
  }
 },
 "nbformat": 4,
 "nbformat_minor": 5
}
