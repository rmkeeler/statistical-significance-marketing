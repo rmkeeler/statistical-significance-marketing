{
 "cells": [
  {
   "cell_type": "code",
   "execution_count": 5,
   "id": "58144282",
   "metadata": {},
   "outputs": [],
   "source": [
    "import numpy as np\n",
    "import pandas as pd\n",
    "import matplotlib.pyplot as plt\n",
    "\n",
    "%matplotlib inline"
   ]
  },
  {
   "cell_type": "markdown",
   "id": "89e75618",
   "metadata": {},
   "source": [
    "# Purpose of this Notebook\n",
    "\n",
    "Investigate two methods of significance testing through the lens of marketing program optimization. The two methods are:\n",
    "\n",
    "1. **Two-Tailed** test to see if treatment sample mean **is different** from control sample mean\n",
    "2. **One-Tailed** test to see if there is a **positive difference** between treatment sample mean and control sample mean\n",
    "\n",
    "The difference between those two methods seems like nuance. But it's theoretically huge.\n",
    "\n",
    "In the first case, my implicit assumption is that the control group yielded its true mean during the experiment time frame. I establish a null hypothesis based around the control group's mean. Then, I contrast the treatment's mean with the control's mean to see if the treatment's mean is random, assuming the control mean is the true mean.\n",
    "\n",
    "I also reject the null when a treatment underperforms the control. In reality, we wouldn't adopt a new idea if that happened. So, its external validity is low.\n",
    "\n",
    "In the second case, my implicit assumption is that there is 0 difference between the control group's mean and the treatment group's mean. My null hypothesis is then based around a mean difference of 0. Then, I contrast the observed mean difference with the assumed difference of 0 and see if our observed difference occurred by chance or not.\n",
    "\n",
    "I also reject the null only when the treatment outperforms the control. This more accurately reflects marketing decision making in the real world. A new idea is only getting adopted when it **beats** status quo.\n",
    "\n",
    "## The implication is really about maximizing external validity\n",
    "\n",
    "In both cases, the test is structured to measure what it purports to measure **within the sample**, so internal validty is high. \n",
    "\n",
    "In case one, I'm able to demonstrate that my treatment mean is likley different from my control mean. \n",
    "\n",
    "In case two, I'm able to demonstrate that my sample does or doesn't show a significant positive difference between the two means (treatment - control).\n",
    "\n",
    "However, case 1 assumes that I didn't get the control mean by random chance. That it represents the population mean without the treatment. This reduces external validity. It forgets about biases involving the sample and time.\n",
    "\n",
    "## And I want to answer this question\n",
    "\n",
    "What would have to be the case for both to yield materially different results? (Results that change the decision being made)"
   ]
  },
  {
   "cell_type": "markdown",
   "id": "debec248",
   "metadata": {},
   "source": [
    "# Part 0: Define Global Parameters\n",
    "1. Control probability\n",
    "2. Treatment probability\n",
    "3. Group size (assume 50/50 split, so sample is 2x group_size)\n",
    "4. Count of simulation runs"
   ]
  },
  {
   "cell_type": "code",
   "execution_count": 67,
   "id": "8b96b7df",
   "metadata": {},
   "outputs": [],
   "source": [
    "# Define behavior rates\n",
    "prob_control = 0.10\n",
    "prob_treatment = 0.12\n",
    "group_size = 1000\n",
    "runs = 200000"
   ]
  },
  {
   "cell_type": "markdown",
   "id": "8951c215",
   "metadata": {},
   "source": [
    "# Part 1: Two-Tailed Test Contrasting Sample Means\n",
    "\n",
    "Null Hypothesis: Treatment mean is not different than control mean. (Treatment conversion rate is same as control conversion rate)\n",
    "\n",
    "Alt Hypothesis: Treatment mean is different than control mean. (Treatment conversion rate is different than control conversion rate)"
   ]
  },
  {
   "cell_type": "code",
   "execution_count": 2,
   "id": "c7938383",
   "metadata": {},
   "outputs": [],
   "source": [
    "## PSEUDO CODE\n",
    "\n",
    "# Simulate distribution under null (treatment is not different than null) \n",
    "# Random draw 1 or 0 weighted for control conv rate 200,000 times\n",
    "\n",
    "# Define extremeties using conversion rate of treatment (upper extreme, lower extreme)\n",
    "\n",
    "# Measure % of null cases above and below those two extremes. That's p, baby."
   ]
  },
  {
   "cell_type": "code",
   "execution_count": 15,
   "id": "8500b651",
   "metadata": {},
   "outputs": [
    {
     "data": {
      "image/png": "[encoded data removed]",
      "text/plain": [
       "<Figure size 432x288 with 1 Axes>"
      ]
     },
     "metadata": {
      "needs_background": "light"
     },
     "output_type": "display_data"
    }
   ],
   "source": [
    "# Simulate null distribution\n",
    "sample_means = []\n",
    "\n",
    "for i in range(runs):\n",
    "    sample = np.random.choice(a = [0,1],\n",
    "                             size = group_size,\n",
    "                             p = [1-prob_control, prob_control])\n",
    "    sample_means.append(np.mean(sample))\n",
    "    \n",
    "plt.hist(sample_means);"
   ]
  },
  {
   "cell_type": "code",
   "execution_count": 16,
   "id": "44e7f120",
   "metadata": {},
   "outputs": [
    {
     "name": "stdout",
     "output_type": "stream",
     "text": [
      "P Value: 0.000235\n"
     ]
    }
   ],
   "source": [
    "# Define extremities using treatment probability\n",
    "sample_means = np.asarray(sample_means) # Convert list to nparray to allow numerical comparison in proportion calcs\n",
    "sampling_mean = np.mean(sample_means)\n",
    "mean_diff = prob_treatment - sampling_mean\n",
    "\n",
    "extremity_upper = prob_treatment\n",
    "extremity_lower = sampling_mean - mean_diff\n",
    "\n",
    "proportion_upper = (sample_means >= extremity_upper).mean()\n",
    "proportion_lower = (sample_means <= extremity_lower).mean()\n",
    "\n",
    "p = proportion_upper + proportion_lower\n",
    "print('P Value: {}'.format(p))"
   ]
  },
  {
   "cell_type": "markdown",
   "id": "2f166026",
   "metadata": {},
   "source": [
    "# Part 2: One-Tailed Test Contrasting Presumed and Observed Differences\n",
    "\n",
    "Difference = Treatment - Control\n",
    "\n",
    "Null Hypothesis: The difference between the control conversion rate and treatment conversion rate is 0 or less.\n",
    "\n",
    "Alt Hypothesis: The difference between the control conversion rate the treatment conversion rate is greater than 0."
   ]
  },
  {
   "cell_type": "markdown",
   "id": "13b7b7a4",
   "metadata": {},
   "source": [
    "Same procedure as above, with a few key differences:\n",
    "\n",
    "1. Simulate treatment - control **differences** rather than control probabilities\n",
    "2. One-tailed, so just need upper extremity and upper proportion for P value"
   ]
  },
  {
   "cell_type": "code",
   "execution_count": 30,
   "id": "b870db23",
   "metadata": {},
   "outputs": [
    {
     "name": "stdout",
     "output_type": "stream",
     "text": [
      "Observed Difference: -0.020000000000000004\n",
      "\n",
      "Full Sample Probability: 0.06\n",
      "2000 Total Observations\n"
     ]
    }
   ],
   "source": [
    "# Get full sample mean. If we assume no difference between probs, then full sample outcome rate is the same as each group's rate\n",
    "prob_sample = ((prob_control*group_size) + (prob_treatment*group_size))/(2*group_size)\n",
    "# Get observed difference\n",
    "observed_difference = prob_treatment - prob_control\n",
    "\n",
    "print('Observed Difference: {}\\n'.format(observed_difference))\n",
    "print('Full Sample Probability: {}\\n{} Total Observations'.format(prob_sample, 2*group_size))"
   ]
  },
  {
   "cell_type": "code",
   "execution_count": 31,
   "id": "397d741f",
   "metadata": {},
   "outputs": [
    {
     "data": {
      "image/png": "[encoded data removed]",
      "text/plain": [
       "<Figure size 432x288 with 1 Axes>"
      ]
     },
     "metadata": {
      "needs_background": "light"
     },
     "output_type": "display_data"
    }
   ],
   "source": [
    "sample_differences = []\n",
    "\n",
    "for i in range(runs):\n",
    "    # Get a random distribution of control outcome rates (means)\n",
    "    sample_control = np.random.choice(a = [0,1], size = group_size, p = [1-prob_sample, prob_sample])\n",
    "    \n",
    "    # Get a random distribution of treatment outcome rates (means)\n",
    "    sample_treatment = np.random.choice(a = [0,1], size = group_size, p = [1-prob_sample, prob_sample])\n",
    "    \n",
    "    # Subtract control distribution mean from treatment distribution mean to get a difference in means\n",
    "    # Append this difference distribution to sample_means\n",
    "    sample_difference = np.mean(sample_treatment) - np.mean(sample_control)\n",
    "    sample_differences.append(sample_difference)\n",
    "    \n",
    "plt.hist(sample_differences);"
   ]
  },
  {
   "cell_type": "code",
   "execution_count": 35,
   "id": "e0060630",
   "metadata": {},
   "outputs": [
    {
     "name": "stdout",
     "output_type": "stream",
     "text": [
      "P Value (Alt Greater): 0.973455\n",
      "P Value (Alt Less): 0.029845\n"
     ]
    }
   ],
   "source": [
    "sample_differences = np.asarray(sample_differences)\n",
    "\n",
    "null_difference = np.mean(sample_differences)\n",
    "mean_diff = observed_difference - null_difference\n",
    "\n",
    "extremity_observed = observed_difference\n",
    "extremity_inverse = null_difference - mean_diff\n",
    "\n",
    "proportion_observed_greater = (sample_differences >= extremity_observed).mean()\n",
    "proportion_observed_less = (sample_differences <= extremity_observed).mean()\n",
    "\n",
    "one_tail_p_greater = proportion_observed_greater\n",
    "one_tail_p_less = proportion_observed_less\n",
    "\n",
    "print('P Value (Alt Greater): {}'.format(one_tail_p_greater))\n",
    "print('P Value (Alt Less): {}'.format(one_tail_p_less))"
   ]
  },
  {
   "cell_type": "markdown",
   "id": "0d4652fd",
   "metadata": {},
   "source": [
    "# Part 3: When do the methods conclude differently?"
   ]
  },
  {
   "cell_type": "code",
   "execution_count": 102,
   "id": "e2e797a8",
   "metadata": {},
   "outputs": [],
   "source": [
    "def sig_test_a(control_prob, treatment_prob, control_size = 1000, treatment_size = 1000, runs = 200000, plot = False):\n",
    "    \"\"\"\n",
    "    Test for significance using the method in part 1, above. Default 2-tailed.\n",
    "    \n",
    "    Null: Treatment is not different than control.\n",
    "    Alt: Treatment is different than control.\n",
    "    \n",
    "    Implicit assumption: Control's mean is the true population mean without treatment.\n",
    "    \"\"\"\n",
    "    \n",
    "    sample_means = []\n",
    "    \n",
    "    for i in range(runs):\n",
    "        sample = np.random.choice([0,1], size = control_size, replace = True, p = [1-control_prob, control_prob])\n",
    "        sample_means.append(np.mean(sample))\n",
    "        \n",
    "    sampling_mean = np.mean(sample_means)\n",
    "    \n",
    "    sample_means = np.asarray(sample_means)\n",
    "    mean_diff = treatment_prob - sampling_mean\n",
    "    \n",
    "    extreme_observed = treatment_prob\n",
    "    extreme_inverse = sampling_mean - mean_diff\n",
    "    extreme_high = max(extreme_observed, extreme_inverse)\n",
    "    extreme_low = min(extreme_observed, extreme_inverse)\n",
    "    \n",
    "    print('Max extreme: {}'.format(extreme_high))\n",
    "    print('Min extreme: {}'.format(extreme_low))\n",
    "    \n",
    "    proportion_upper = (sample_means >= extreme_high).mean()\n",
    "    proportion_lower = (sample_means <= extreme_low).mean()\n",
    "    \n",
    "    p = proportion_upper + proportion_lower\n",
    "    print('P Value: {}'.format(p))\n",
    "    \n",
    "    if plot:\n",
    "        fig, ax = plt.subplots(1,1,figsize=(8,6))\n",
    "        \n",
    "        ax.hist([w for w in sample_means if w < extreme_low], color = 'red')\n",
    "        ax.hist([w for w in sample_means if w > extreme_high], color = 'red')\n",
    "        ax.hist([w for w in sample_means if (w > extreme_low) and (w < extreme_high)], color = 'grey')\n",
    "        ax.axvline(x = extreme_observed, linestyle = 'dashed', color = 'red')\n",
    "        ax.axvline(x = extreme_inverse, linestyle = 'dashed', color = 'red')\n",
    "        \n",
    "        plt.show();\n",
    "    \n",
    "    return p"
   ]
  },
  {
   "cell_type": "code",
   "execution_count": 103,
   "id": "80eb31e6",
   "metadata": {},
   "outputs": [],
   "source": [
    "def sig_test_b(control_prob, treatment_prob, tails = 1, control_size = 1000, treatment_size = 1000, runs = 200000, plot = False):\n",
    "    \"\"\"\n",
    "    Test for significance using the method in part 2, above. Default 1-tailed.\n",
    "    \n",
    "    Null: Difference treatment - control is 0 or less.\n",
    "    Alt: Difference treatment - control is positive.\n",
    "    \n",
    "    Implicit assumption is that treatment and control are the same where the eval metric is concerned.\n",
    "    The precise values obtained for each prob are less important.\n",
    "    Greater external validity with this method in marketing program optimization contexts.\n",
    "    \"\"\"\n",
    "    sample_prob = ((control_prob * control_size) + (treatment_prob * treatment_size)) / (control_size + treatment_size)\n",
    "    print('Full Sample Probability: {:.4f}'.format(sample_prob))\n",
    "    \n",
    "    sample_means = []\n",
    "    \n",
    "    for i in range(runs):\n",
    "        sample_control = np.random.choice(a = [0,1], size = control_size, p = [1-sample_prob, sample_prob])\n",
    "        sample_treatment = np.random.choice(a = [0,1], size = treatment_size, p = [1-sample_prob, sample_prob])\n",
    "        \n",
    "        mean_difference = np.mean(sample_control) - np.mean(sample_treatment)\n",
    "        \n",
    "        sample_means.append(mean_difference)\n",
    "        \n",
    "    sample_means = np.asarray(sample_means)\n",
    "    \n",
    "    null_difference = np.mean(sample_means)\n",
    "    observed_difference = treatment_prob - control_prob\n",
    "    \n",
    "    proportion_extreme = (sample_means >= observed_difference).mean()\n",
    "    \n",
    "    p = proportion_extreme\n",
    "    print('P Value: {}'.format(p))\n",
    "    \n",
    "    if plot:\n",
    "        fig, ax = plt.subplots(1,1,figsize = (8,6))\n",
    "        \n",
    "        ax.hist(x = [w for w in sample_means if w < observed_difference], color = 'grey')\n",
    "        ax.hist(x = [w for w in sample_means if w >= observed_difference], color = 'red')\n",
    "        ax.axvline(x = observed_difference, linestyle = 'dashed', color = 'red')\n",
    "        \n",
    "        plt.show();\n",
    "    \n",
    "    return p"
   ]
  },
  {
   "cell_type": "code",
   "execution_count": 88,
   "id": "db874897",
   "metadata": {},
   "outputs": [],
   "source": [
    "# Set variables\n",
    "prob_control = 0.10\n",
    "prob_treatment = 0.12\n",
    "\n",
    "control_size = 500\n",
    "treatment_size = 500\n",
    "\n",
    "runs = 20000"
   ]
  },
  {
   "cell_type": "code",
   "execution_count": 104,
   "id": "ea9c9a16",
   "metadata": {},
   "outputs": [
    {
     "name": "stdout",
     "output_type": "stream",
     "text": [
      "Max extreme: 0.12\n",
      "Min extreme: 0.0799096\n",
      "P Value: 0.03445\n"
     ]
    },
    {
     "data": {
      "image/png": "[encoded data removed]",
      "text/plain": [
       "<Figure size 576x432 with 1 Axes>"
      ]
     },
     "metadata": {
      "needs_background": "light"
     },
     "output_type": "display_data"
    }
   ],
   "source": [
    "p_a = sig_test_a(prob_control, prob_treatment, runs = runs, plot = True)"
   ]
  },
  {
   "cell_type": "code",
   "execution_count": 105,
   "id": "873e79c6",
   "metadata": {},
   "outputs": [
    {
     "name": "stdout",
     "output_type": "stream",
     "text": [
      "Full Sample Probability: 0.1100\n",
      "P Value: 0.08055\n"
     ]
    },
    {
     "data": {
      "image/png": "[encoded data removed]",
      "text/plain": [
       "<Figure size 576x432 with 1 Axes>"
      ]
     },
     "metadata": {
      "needs_background": "light"
     },
     "output_type": "display_data"
    }
   ],
   "source": [
    "p_b = sig_test_b(prob_control, prob_treatment, runs = runs, plot = True)"
   ]
  }
 ],
 "metadata": {
  "kernelspec": {
   "display_name": "datasci",
   "language": "python",
   "name": "datasci"
  },
  "language_info": {
   "codemirror_mode": {
    "name": "ipython",
    "version": 3
   },
   "file_extension": ".py",
   "mimetype": "text/x-python",
   "name": "python",
   "nbconvert_exporter": "python",
   "pygments_lexer": "ipython3",
   "version": "3.8.7"
  }
 },
 "nbformat": 4,
 "nbformat_minor": 5
}
